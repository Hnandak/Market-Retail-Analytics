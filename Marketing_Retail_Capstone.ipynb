{
 "cells": [
  {
   "cell_type": "markdown",
   "id": "ddd9c1cb-3ed2-4857-bb3c-6667a013abac",
   "metadata": {},
   "source": [
    "# Marketing and Retail Analytics - Capstone Project\n",
    "\n",
    "## OList Retail Dataset\n",
    "\n",
    "OList is an e-commerce company that has faced some losses recently and they want to manage their inventory very well so as to reduce any unnecessary costs that they might be bearing.\n",
    "\n",
    "In this assignment, we need to manage the inventory cost of this e-commerce company. We need to identify top products that contribute to the revenue and also use market basket analysis to analyse the purchase behaviour of individual customers to estimate with relative certainty, what items are more likely to be purchased individually or in combination with some other products."
   ]
  },
  {
   "cell_type": "markdown",
   "id": "a5772a84-b65f-48a9-a3cd-41e08e885bba",
   "metadata": {},
   "source": [
    "## Data Exploration and Cleaning\n",
    "\n",
    "- Reading the datasets.\n",
    "- Identifying missing values,Outliers and treating them as per standards(Imputing missing values is the technique followed)\n",
    "- Each individual sheets in original data are cleaned and finally consolidated."
   ]
  },
  {
   "cell_type": "code",
   "execution_count": 1,
   "id": "8c1e2fed-58b5-4e8e-8689-edea7ab935d2",
   "metadata": {},
   "outputs": [],
   "source": [
    "# importing libraries\n",
    "\n",
    "import numpy as np\n",
    "import pandas as pd\n",
    "import matplotlib.pyplot as plt\n",
    "import seaborn as sns\n",
    "import os\n",
    "\n",
    "import warnings\n",
    "warnings.filterwarnings(\"ignore\")"
   ]
  },
  {
   "cell_type": "markdown",
   "id": "b9de00fb-7922-4e7a-a144-e6c45c654cea",
   "metadata": {},
   "source": [
    "### 1.Orders"
   ]
  },
  {
   "cell_type": "code",
   "execution_count": 2,
   "id": "bb91b977-64ec-4e3f-9e40-1298564127be",
   "metadata": {},
   "outputs": [],
   "source": [
    "orders=pd.read_excel('Retail_dataset.xlsx',sheet_name='orders')"
   ]
  },
  {
   "cell_type": "code",
   "execution_count": 3,
   "id": "6277ab10-73b9-4179-b378-b231ec29e6c9",
   "metadata": {},
   "outputs": [
    {
     "name": "stdout",
     "output_type": "stream",
     "text": [
      "Shape:\n",
      "(99441, 7)\n",
      "--------------------\n",
      "Info:\n",
      "<class 'pandas.core.frame.DataFrame'>\n",
      "RangeIndex: 99441 entries, 0 to 99440\n",
      "Data columns (total 7 columns):\n",
      " #   Column                         Non-Null Count  Dtype         \n",
      "---  ------                         --------------  -----         \n",
      " 0   order_id                       99441 non-null  object        \n",
      " 1   customer_id                    99441 non-null  object        \n",
      " 2   order_status                   99441 non-null  object        \n",
      " 3   order_purchase_timestamp       99441 non-null  datetime64[ns]\n",
      " 4   order_approved_at              99281 non-null  datetime64[ns]\n",
      " 5   order_delivered_timestamp      96476 non-null  datetime64[ns]\n",
      " 6   order_estimated_delivery_date  99441 non-null  datetime64[ns]\n",
      "dtypes: datetime64[ns](4), object(3)\n",
      "memory usage: 5.3+ MB\n",
      "--------------------\n",
      "Describe:\n",
      "                                order_id                       customer_id  \\\n",
      "count                              99441                             99441   \n",
      "unique                             99441                             96096   \n",
      "top     e481f51cbdc54678b7cc49136f2d6af7  8d50f5eadf50201ccdcedfb9e2ac8455   \n",
      "freq                                   1                                17   \n",
      "mean                                 NaN                               NaN   \n",
      "min                                  NaN                               NaN   \n",
      "25%                                  NaN                               NaN   \n",
      "50%                                  NaN                               NaN   \n",
      "75%                                  NaN                               NaN   \n",
      "max                                  NaN                               NaN   \n",
      "\n",
      "       order_status       order_purchase_timestamp  \\\n",
      "count         99441                          99441   \n",
      "unique            8                            NaN   \n",
      "top       delivered                            NaN   \n",
      "freq          96478                            NaN   \n",
      "mean            NaN  2017-12-31 08:43:12.776581120   \n",
      "min             NaN            2016-09-04 21:15:19   \n",
      "25%             NaN            2017-09-12 14:46:19   \n",
      "50%             NaN            2018-01-18 23:04:36   \n",
      "75%             NaN            2018-05-04 15:42:16   \n",
      "max             NaN            2018-10-17 17:30:18   \n",
      "\n",
      "                    order_approved_at      order_delivered_timestamp  \\\n",
      "count                           99281                          96476   \n",
      "unique                            NaN                            NaN   \n",
      "top                               NaN                            NaN   \n",
      "freq                              NaN                            NaN   \n",
      "mean    2017-12-31 18:35:24.098800128  2018-01-14 12:09:19.035542272   \n",
      "min               2016-09-15 12:16:38            2016-10-11 13:46:32   \n",
      "25%               2017-09-12 23:24:16  2017-09-25 22:07:22.249999872   \n",
      "50%               2018-01-19 11:36:13     2018-02-02 19:28:10.500000   \n",
      "75%               2018-05-04 20:35:10  2018-05-15 22:48:52.249999872   \n",
      "max               2018-09-03 17:40:06            2018-10-17 13:22:46   \n",
      "\n",
      "        order_estimated_delivery_date  \n",
      "count                           99441  \n",
      "unique                            NaN  \n",
      "top                               NaN  \n",
      "freq                              NaN  \n",
      "mean    2018-01-24 03:08:37.730111232  \n",
      "min               2016-09-30 00:00:00  \n",
      "25%               2017-10-03 00:00:00  \n",
      "50%               2018-02-15 00:00:00  \n",
      "75%               2018-05-25 00:00:00  \n",
      "max               2018-11-12 00:00:00  \n",
      "--------------------\n"
     ]
    }
   ],
   "source": [
    "def summarize_dataframe(df: pd.DataFrame):\n",
    "    print(\"Shape:\")\n",
    "    print(df.shape)\n",
    "    print('-' * 20)\n",
    "\n",
    "    print(\"Info:\")\n",
    "    df.info()\n",
    "    print('-' * 20)\n",
    "\n",
    "    print(\"Describe:\")\n",
    "    print(df.describe(include='all'))  # include='all' to show all columns\n",
    "    print('-' * 20)\n",
    "summarize_dataframe(orders)"
   ]
  },
  {
   "cell_type": "code",
   "execution_count": 4,
   "id": "783bd913-8b0a-4d1f-b798-56945c1856f2",
   "metadata": {},
   "outputs": [
    {
     "data": {
      "text/plain": [
       "0"
      ]
     },
     "execution_count": 4,
     "metadata": {},
     "output_type": "execute_result"
    }
   ],
   "source": [
    "# checking for duplicated order id\n",
    "orders.order_id.duplicated().sum()"
   ]
  },
  {
   "cell_type": "markdown",
   "id": "d87913fd-8ad3-4062-b65e-e816878d6500",
   "metadata": {},
   "source": [
    "#### For this Analysis we are considering only delivered orders so restructuring DF to have orders with status'Delivered'"
   ]
  },
  {
   "cell_type": "code",
   "execution_count": 5,
   "id": "b7df75df-c4dd-44fb-8e13-5c060e80b58c",
   "metadata": {},
   "outputs": [
    {
     "data": {
      "text/plain": [
       "(96478, 7)"
      ]
     },
     "execution_count": 5,
     "metadata": {},
     "output_type": "execute_result"
    }
   ],
   "source": [
    "orders=orders[orders.order_status=='delivered']\n",
    "orders.shape"
   ]
  },
  {
   "cell_type": "code",
   "execution_count": 6,
   "id": "d2b76ffc-7130-4587-a38a-441bf08ab9f3",
   "metadata": {},
   "outputs": [
    {
     "name": "stdout",
     "output_type": "stream",
     "text": [
      "                               Null Count  Null Percentage\n",
      "order_id                                0             0.00\n",
      "customer_id                             0             0.00\n",
      "order_status                            0             0.00\n",
      "order_purchase_timestamp                0             0.00\n",
      "order_approved_at                      14             0.01\n",
      "order_delivered_timestamp               8             0.01\n",
      "order_estimated_delivery_date           0             0.00\n"
     ]
    }
   ],
   "source": [
    "#Finding Missing Values in the Orders sheet\n",
    "def null_summary(df: pd.DataFrame):\n",
    "    null_count = df.isna().sum()\n",
    "    null_percent = (null_count / len(df)) * 100\n",
    "\n",
    "    summary_df = pd.DataFrame({\n",
    "        'Null Count': null_count,\n",
    "        'Null Percentage': null_percent.round(2)\n",
    "    })\n",
    "    print(summary_df)\n",
    "null_summary(orders)"
   ]
  },
  {
   "cell_type": "markdown",
   "id": "35505b0d-fd09-460f-a49f-9e447f211f66",
   "metadata": {},
   "source": [
    "The two columns having null values are order_approved_at and order_delivered_timestamp. Both have less % of values.\n",
    "so one option is to impute the null values with values associated with them.\n",
    "<br>Assuming:\n",
    "- order_approved_at is the same time as order_purchase_timestamp.\n",
    "- order_delivered_timestamp is the same as order_estimated_delivery_date."
   ]
  },
  {
   "cell_type": "code",
   "execution_count": 7,
   "id": "c63d60f6-d8ae-4e1e-b5ef-c5c2c50547c9",
   "metadata": {},
   "outputs": [
    {
     "name": "stdout",
     "output_type": "stream",
     "text": [
      "                               Null Count  Null Percentage\n",
      "order_id                                0              0.0\n",
      "customer_id                             0              0.0\n",
      "order_status                            0              0.0\n",
      "order_purchase_timestamp                0              0.0\n",
      "order_approved_at                       0              0.0\n",
      "order_delivered_timestamp               0              0.0\n",
      "order_estimated_delivery_date           0              0.0\n"
     ]
    }
   ],
   "source": [
    "#imputing the values as mentioned above\n",
    "orders['order_approved_at'].fillna(orders['order_purchase_timestamp'], inplace=True)\n",
    "orders['order_delivered_timestamp'].fillna(orders['order_estimated_delivery_date'], inplace=True)\n",
    "null_summary(orders)"
   ]
  },
  {
   "cell_type": "markdown",
   "id": "36873f65-4a6d-4259-b7cc-237a331973e4",
   "metadata": {},
   "source": [
    "### 2.Order_items"
   ]
  },
  {
   "cell_type": "code",
   "execution_count": 8,
   "id": "054a9063-762d-4d68-bec3-54b174cd3b60",
   "metadata": {},
   "outputs": [],
   "source": [
    "order_items=pd.read_excel('Retail_dataset.xlsx',sheet_name='order_items')"
   ]
  },
  {
   "cell_type": "code",
   "execution_count": 9,
   "id": "3aaf0bc8-d9d4-47b4-9529-0dfc7389ba5b",
   "metadata": {},
   "outputs": [
    {
     "name": "stdout",
     "output_type": "stream",
     "text": [
      "Shape:\n",
      "(112650, 6)\n",
      "--------------------\n",
      "Info:\n",
      "<class 'pandas.core.frame.DataFrame'>\n",
      "RangeIndex: 112650 entries, 0 to 112649\n",
      "Data columns (total 6 columns):\n",
      " #   Column            Non-Null Count   Dtype  \n",
      "---  ------            --------------   -----  \n",
      " 0   order_id          112650 non-null  object \n",
      " 1   order_item_id     112650 non-null  int64  \n",
      " 2   product_id        112650 non-null  object \n",
      " 3   seller_id         112650 non-null  object \n",
      " 4   price             112650 non-null  float64\n",
      " 5   shipping_charges  112650 non-null  float64\n",
      "dtypes: float64(2), int64(1), object(3)\n",
      "memory usage: 5.2+ MB\n",
      "--------------------\n",
      "Describe:\n",
      "                                order_id  order_item_id  \\\n",
      "count                             112650  112650.000000   \n",
      "unique                             98666            NaN   \n",
      "top     8272b63d03f5f79c56e9e4120aec44ef            NaN   \n",
      "freq                                  21            NaN   \n",
      "mean                                 NaN       1.197834   \n",
      "std                                  NaN       0.705124   \n",
      "min                                  NaN       1.000000   \n",
      "25%                                  NaN       1.000000   \n",
      "50%                                  NaN       1.000000   \n",
      "75%                                  NaN       1.000000   \n",
      "max                                  NaN      21.000000   \n",
      "\n",
      "                              product_id                         seller_id  \\\n",
      "count                             112650                            112650   \n",
      "unique                             32951                              3095   \n",
      "top     aca2eb7d00ea1a7b8ebd4e68314663af  6560211a19b47992c3666cc44a7e94c0   \n",
      "freq                                 527                              2033   \n",
      "mean                                 NaN                               NaN   \n",
      "std                                  NaN                               NaN   \n",
      "min                                  NaN                               NaN   \n",
      "25%                                  NaN                               NaN   \n",
      "50%                                  NaN                               NaN   \n",
      "75%                                  NaN                               NaN   \n",
      "max                                  NaN                               NaN   \n",
      "\n",
      "                price  shipping_charges  \n",
      "count   112650.000000     112650.000000  \n",
      "unique            NaN               NaN  \n",
      "top               NaN               NaN  \n",
      "freq              NaN               NaN  \n",
      "mean       120.653739         19.990320  \n",
      "std        183.633928         15.806405  \n",
      "min          0.850000          0.000000  \n",
      "25%         39.900000         13.080000  \n",
      "50%         74.990000         16.260000  \n",
      "75%        134.900000         21.150000  \n",
      "max       6735.000000        409.680000  \n",
      "--------------------\n"
     ]
    }
   ],
   "source": [
    "summarize_dataframe(order_items)"
   ]
  },
  {
   "cell_type": "code",
   "execution_count": 10,
   "id": "8c874ec5-af19-44ce-bbff-394765631468",
   "metadata": {},
   "outputs": [
    {
     "name": "stdout",
     "output_type": "stream",
     "text": [
      "                  Null Count  Null Percentage\n",
      "order_id                   0              0.0\n",
      "order_item_id              0              0.0\n",
      "product_id                 0              0.0\n",
      "seller_id                  0              0.0\n",
      "price                      0              0.0\n",
      "shipping_charges           0              0.0\n"
     ]
    }
   ],
   "source": [
    "#checking for null and no missing values found so keep this sheet as it is.\n",
    "null_summary(order_items)"
   ]
  },
  {
   "cell_type": "code",
   "execution_count": 11,
   "id": "c3482584-6f11-4729-bf48-c7f28ade2cca",
   "metadata": {},
   "outputs": [
    {
     "data": {
      "text/plain": [
       "13984"
      ]
     },
     "execution_count": 11,
     "metadata": {},
     "output_type": "execute_result"
    }
   ],
   "source": [
    "order_items['order_id'].duplicated().sum()"
   ]
  },
  {
   "cell_type": "markdown",
   "id": "16a0e943-5283-4d7c-9640-56f01c86ee04",
   "metadata": {},
   "source": [
    "The duplicates in the Order_items are valid as same order id has individual entry for each item in basket."
   ]
  },
  {
   "cell_type": "markdown",
   "id": "999fc2a0-2c1e-4b7c-86ba-c6f301486cf7",
   "metadata": {},
   "source": [
    "### 3.Customers"
   ]
  },
  {
   "cell_type": "code",
   "execution_count": 12,
   "id": "39eab621-f037-4133-9d12-33299fd196d1",
   "metadata": {},
   "outputs": [
    {
     "data": {
      "text/html": [
       "<div>\n",
       "<style scoped>\n",
       "    .dataframe tbody tr th:only-of-type {\n",
       "        vertical-align: middle;\n",
       "    }\n",
       "\n",
       "    .dataframe tbody tr th {\n",
       "        vertical-align: top;\n",
       "    }\n",
       "\n",
       "    .dataframe thead th {\n",
       "        text-align: right;\n",
       "    }\n",
       "</style>\n",
       "<table border=\"1\" class=\"dataframe\">\n",
       "  <thead>\n",
       "    <tr style=\"text-align: right;\">\n",
       "      <th></th>\n",
       "      <th>customer_id</th>\n",
       "      <th>customer_zip_code_prefix</th>\n",
       "      <th>customer_city</th>\n",
       "      <th>customer_state</th>\n",
       "    </tr>\n",
       "  </thead>\n",
       "  <tbody>\n",
       "    <tr>\n",
       "      <th>0</th>\n",
       "      <td>861eff4711a542e4b93843c6dd7febb0</td>\n",
       "      <td>14409</td>\n",
       "      <td>franca</td>\n",
       "      <td>SP</td>\n",
       "    </tr>\n",
       "    <tr>\n",
       "      <th>1</th>\n",
       "      <td>290c77bc529b7ac935b93aa66c333dc3</td>\n",
       "      <td>9790</td>\n",
       "      <td>sao bernardo do campo</td>\n",
       "      <td>SP</td>\n",
       "    </tr>\n",
       "    <tr>\n",
       "      <th>2</th>\n",
       "      <td>060e732b5b29e8181a18229c7b0b2b5e</td>\n",
       "      <td>1151</td>\n",
       "      <td>sao paulo</td>\n",
       "      <td>SP</td>\n",
       "    </tr>\n",
       "    <tr>\n",
       "      <th>3</th>\n",
       "      <td>259dac757896d24d7702b9acbbff3f3c</td>\n",
       "      <td>8775</td>\n",
       "      <td>mogi das cruzes</td>\n",
       "      <td>SP</td>\n",
       "    </tr>\n",
       "    <tr>\n",
       "      <th>4</th>\n",
       "      <td>345ecd01c38d18a9036ed96c73b8d066</td>\n",
       "      <td>13056</td>\n",
       "      <td>campinas</td>\n",
       "      <td>SP</td>\n",
       "    </tr>\n",
       "  </tbody>\n",
       "</table>\n",
       "</div>"
      ],
      "text/plain": [
       "                        customer_id  customer_zip_code_prefix  \\\n",
       "0  861eff4711a542e4b93843c6dd7febb0                     14409   \n",
       "1  290c77bc529b7ac935b93aa66c333dc3                      9790   \n",
       "2  060e732b5b29e8181a18229c7b0b2b5e                      1151   \n",
       "3  259dac757896d24d7702b9acbbff3f3c                      8775   \n",
       "4  345ecd01c38d18a9036ed96c73b8d066                     13056   \n",
       "\n",
       "           customer_city customer_state  \n",
       "0                 franca             SP  \n",
       "1  sao bernardo do campo             SP  \n",
       "2              sao paulo             SP  \n",
       "3        mogi das cruzes             SP  \n",
       "4               campinas             SP  "
      ]
     },
     "execution_count": 12,
     "metadata": {},
     "output_type": "execute_result"
    }
   ],
   "source": [
    "customers=pd.read_excel(\"Retail_dataset.xlsx\",sheet_name='customers')\n",
    "customers.head()"
   ]
  },
  {
   "cell_type": "code",
   "execution_count": 13,
   "id": "a0320805-7073-4ba4-9e9b-6573982474c7",
   "metadata": {},
   "outputs": [
    {
     "name": "stdout",
     "output_type": "stream",
     "text": [
      "Shape:\n",
      "(99441, 4)\n",
      "--------------------\n",
      "Info:\n",
      "<class 'pandas.core.frame.DataFrame'>\n",
      "RangeIndex: 99441 entries, 0 to 99440\n",
      "Data columns (total 4 columns):\n",
      " #   Column                    Non-Null Count  Dtype \n",
      "---  ------                    --------------  ----- \n",
      " 0   customer_id               99441 non-null  object\n",
      " 1   customer_zip_code_prefix  99441 non-null  int64 \n",
      " 2   customer_city             99441 non-null  object\n",
      " 3   customer_state            99441 non-null  object\n",
      "dtypes: int64(1), object(3)\n",
      "memory usage: 3.0+ MB\n",
      "--------------------\n",
      "Describe:\n",
      "                             customer_id  customer_zip_code_prefix  \\\n",
      "count                              99441              99441.000000   \n",
      "unique                             96096                       NaN   \n",
      "top     8d50f5eadf50201ccdcedfb9e2ac8455                       NaN   \n",
      "freq                                  17                       NaN   \n",
      "mean                                 NaN              35137.474583   \n",
      "std                                  NaN              29797.938996   \n",
      "min                                  NaN               1003.000000   \n",
      "25%                                  NaN              11347.000000   \n",
      "50%                                  NaN              24416.000000   \n",
      "75%                                  NaN              58900.000000   \n",
      "max                                  NaN              99990.000000   \n",
      "\n",
      "       customer_city customer_state  \n",
      "count          99441          99441  \n",
      "unique          4119             27  \n",
      "top        sao paulo             SP  \n",
      "freq           15540          41746  \n",
      "mean             NaN            NaN  \n",
      "std              NaN            NaN  \n",
      "min              NaN            NaN  \n",
      "25%              NaN            NaN  \n",
      "50%              NaN            NaN  \n",
      "75%              NaN            NaN  \n",
      "max              NaN            NaN  \n",
      "--------------------\n"
     ]
    }
   ],
   "source": [
    "summarize_dataframe(customers)"
   ]
  },
  {
   "cell_type": "code",
   "execution_count": 14,
   "id": "fe5faec0-2710-45db-a20c-460a1dbbb0ef",
   "metadata": {},
   "outputs": [
    {
     "name": "stdout",
     "output_type": "stream",
     "text": [
      "                          Null Count  Null Percentage\n",
      "customer_id                        0              0.0\n",
      "customer_zip_code_prefix           0              0.0\n",
      "customer_city                      0              0.0\n",
      "customer_state                     0              0.0\n"
     ]
    }
   ],
   "source": [
    "null_summary(customers)"
   ]
  },
  {
   "cell_type": "code",
   "execution_count": 15,
   "id": "2f218811-db01-4e6c-b965-7f513aa3619e",
   "metadata": {},
   "outputs": [
    {
     "name": "stdout",
     "output_type": "stream",
     "text": [
      "3345\n"
     ]
    }
   ],
   "source": [
    "duplicate_customers=customers['customer_id'].duplicated().sum()\n",
    "print(duplicate_customers)"
   ]
  },
  {
   "cell_type": "markdown",
   "id": "25aa3b0f-16b9-4155-8dba-e05cb4af59a6",
   "metadata": {},
   "source": [
    "customer id should not have duplicate values as it causes hinderance in further analysis,<br> so removing duplicate customer ids and keeping first occurence of the id."
   ]
  },
  {
   "cell_type": "code",
   "execution_count": 16,
   "id": "1f772f6e-c44b-4e7d-bf52-3efb45249cbe",
   "metadata": {},
   "outputs": [
    {
     "data": {
      "text/plain": [
       "0"
      ]
     },
     "execution_count": 16,
     "metadata": {},
     "output_type": "execute_result"
    }
   ],
   "source": [
    "customers.drop_duplicates(subset='customer_id',keep='first',inplace=True)\n",
    "customers['customer_id'].duplicated().sum()"
   ]
  },
  {
   "cell_type": "markdown",
   "id": "a8f2b2d2-cf43-462d-9113-17cc711a0fb7",
   "metadata": {},
   "source": [
    "### 4.Payments"
   ]
  },
  {
   "cell_type": "code",
   "execution_count": 17,
   "id": "5d97567f-891d-4d5d-bce0-178850e077df",
   "metadata": {},
   "outputs": [],
   "source": [
    "payments = pd.read_excel(\"Retail_dataset.xlsx\", sheet_name = \"payments\")"
   ]
  },
  {
   "cell_type": "code",
   "execution_count": 18,
   "id": "9697ef41-8a32-48a3-acfb-7aa8896fba42",
   "metadata": {},
   "outputs": [
    {
     "name": "stdout",
     "output_type": "stream",
     "text": [
      "Shape:\n",
      "(103886, 5)\n",
      "--------------------\n",
      "Info:\n",
      "<class 'pandas.core.frame.DataFrame'>\n",
      "RangeIndex: 103886 entries, 0 to 103885\n",
      "Data columns (total 5 columns):\n",
      " #   Column                Non-Null Count   Dtype  \n",
      "---  ------                --------------   -----  \n",
      " 0   order_id              103886 non-null  object \n",
      " 1   payment_sequential    103886 non-null  int64  \n",
      " 2   payment_type          103886 non-null  object \n",
      " 3   payment_installments  103886 non-null  int64  \n",
      " 4   payment_value         103886 non-null  float64\n",
      "dtypes: float64(1), int64(2), object(2)\n",
      "memory usage: 4.0+ MB\n",
      "--------------------\n",
      "Describe:\n",
      "                                order_id  payment_sequential payment_type  \\\n",
      "count                             103886       103886.000000       103886   \n",
      "unique                             99440                 NaN            5   \n",
      "top     fa65dad1b0e818e3ccc5cb0e39231352                 NaN  credit_card   \n",
      "freq                                  29                 NaN        76795   \n",
      "mean                                 NaN            1.092679          NaN   \n",
      "std                                  NaN            0.706584          NaN   \n",
      "min                                  NaN            1.000000          NaN   \n",
      "25%                                  NaN            1.000000          NaN   \n",
      "50%                                  NaN            1.000000          NaN   \n",
      "75%                                  NaN            1.000000          NaN   \n",
      "max                                  NaN           29.000000          NaN   \n",
      "\n",
      "        payment_installments  payment_value  \n",
      "count          103886.000000  103886.000000  \n",
      "unique                   NaN            NaN  \n",
      "top                      NaN            NaN  \n",
      "freq                     NaN            NaN  \n",
      "mean                2.853349     154.100380  \n",
      "std                 2.687051     217.494064  \n",
      "min                 0.000000       0.000000  \n",
      "25%                 1.000000      56.790000  \n",
      "50%                 1.000000     100.000000  \n",
      "75%                 4.000000     171.837500  \n",
      "max                24.000000   13664.080000  \n",
      "--------------------\n"
     ]
    }
   ],
   "source": [
    "summarize_dataframe(payments)"
   ]
  },
  {
   "cell_type": "code",
   "execution_count": 19,
   "id": "bc673988-890c-46aa-848b-439096a65ce9",
   "metadata": {},
   "outputs": [
    {
     "name": "stdout",
     "output_type": "stream",
     "text": [
      "                      Null Count  Null Percentage\n",
      "order_id                       0              0.0\n",
      "payment_sequential             0              0.0\n",
      "payment_type                   0              0.0\n",
      "payment_installments           0              0.0\n",
      "payment_value                  0              0.0\n"
     ]
    }
   ],
   "source": [
    "null_summary(payments)"
   ]
  },
  {
   "cell_type": "markdown",
   "id": "9dee71b6-f9a0-45b6-937d-e8ee8c26be40",
   "metadata": {},
   "source": [
    "No Null Values, Further cleaning not required for payments"
   ]
  },
  {
   "cell_type": "markdown",
   "id": "7ad8774b-6b88-47f3-90fa-20e41c21ee55",
   "metadata": {},
   "source": [
    "### 5.Products"
   ]
  },
  {
   "cell_type": "code",
   "execution_count": 20,
   "id": "2fdfee50-ff62-45f7-aea6-dd1d0adce77b",
   "metadata": {},
   "outputs": [],
   "source": [
    "products = pd.read_excel(\"Retail_dataset.xlsx\", sheet_name = \"products\")"
   ]
  },
  {
   "cell_type": "code",
   "execution_count": 21,
   "id": "9ecdceec-bf44-42b5-b9a6-a5b2557bd992",
   "metadata": {},
   "outputs": [
    {
     "data": {
      "text/html": [
       "<div>\n",
       "<style scoped>\n",
       "    .dataframe tbody tr th:only-of-type {\n",
       "        vertical-align: middle;\n",
       "    }\n",
       "\n",
       "    .dataframe tbody tr th {\n",
       "        vertical-align: top;\n",
       "    }\n",
       "\n",
       "    .dataframe thead th {\n",
       "        text-align: right;\n",
       "    }\n",
       "</style>\n",
       "<table border=\"1\" class=\"dataframe\">\n",
       "  <thead>\n",
       "    <tr style=\"text-align: right;\">\n",
       "      <th></th>\n",
       "      <th>product_id</th>\n",
       "      <th>product_category_name</th>\n",
       "      <th>product_weight_g</th>\n",
       "      <th>product_length_cm</th>\n",
       "      <th>product_height_cm</th>\n",
       "      <th>product_width_cm</th>\n",
       "    </tr>\n",
       "  </thead>\n",
       "  <tbody>\n",
       "    <tr>\n",
       "      <th>0</th>\n",
       "      <td>1e9e8ef04dbcff4541ed26657ea517e5</td>\n",
       "      <td>perfumery</td>\n",
       "      <td>225.0</td>\n",
       "      <td>16.0</td>\n",
       "      <td>10.0</td>\n",
       "      <td>14.0</td>\n",
       "    </tr>\n",
       "    <tr>\n",
       "      <th>1</th>\n",
       "      <td>3aa071139cb16b67ca9e5dea641aaa2f</td>\n",
       "      <td>art</td>\n",
       "      <td>1000.0</td>\n",
       "      <td>30.0</td>\n",
       "      <td>18.0</td>\n",
       "      <td>20.0</td>\n",
       "    </tr>\n",
       "    <tr>\n",
       "      <th>2</th>\n",
       "      <td>96bd76ec8810374ed1b65e291975717f</td>\n",
       "      <td>sports_leisure</td>\n",
       "      <td>154.0</td>\n",
       "      <td>18.0</td>\n",
       "      <td>9.0</td>\n",
       "      <td>15.0</td>\n",
       "    </tr>\n",
       "    <tr>\n",
       "      <th>3</th>\n",
       "      <td>cef67bcfe19066a932b7673e239eb23d</td>\n",
       "      <td>baby</td>\n",
       "      <td>371.0</td>\n",
       "      <td>26.0</td>\n",
       "      <td>4.0</td>\n",
       "      <td>26.0</td>\n",
       "    </tr>\n",
       "    <tr>\n",
       "      <th>4</th>\n",
       "      <td>9dc1a7de274444849c219cff195d0b71</td>\n",
       "      <td>housewares</td>\n",
       "      <td>625.0</td>\n",
       "      <td>20.0</td>\n",
       "      <td>17.0</td>\n",
       "      <td>13.0</td>\n",
       "    </tr>\n",
       "  </tbody>\n",
       "</table>\n",
       "</div>"
      ],
      "text/plain": [
       "                         product_id product_category_name  product_weight_g  \\\n",
       "0  1e9e8ef04dbcff4541ed26657ea517e5             perfumery             225.0   \n",
       "1  3aa071139cb16b67ca9e5dea641aaa2f                   art            1000.0   \n",
       "2  96bd76ec8810374ed1b65e291975717f        sports_leisure             154.0   \n",
       "3  cef67bcfe19066a932b7673e239eb23d                  baby             371.0   \n",
       "4  9dc1a7de274444849c219cff195d0b71            housewares             625.0   \n",
       "\n",
       "   product_length_cm  product_height_cm  product_width_cm  \n",
       "0               16.0               10.0              14.0  \n",
       "1               30.0               18.0              20.0  \n",
       "2               18.0                9.0              15.0  \n",
       "3               26.0                4.0              26.0  \n",
       "4               20.0               17.0              13.0  "
      ]
     },
     "execution_count": 21,
     "metadata": {},
     "output_type": "execute_result"
    }
   ],
   "source": [
    "products.head()"
   ]
  },
  {
   "cell_type": "code",
   "execution_count": 22,
   "id": "98bd65c5-1277-420f-bdba-b41a47c848d2",
   "metadata": {},
   "outputs": [
    {
     "name": "stdout",
     "output_type": "stream",
     "text": [
      "Shape:\n",
      "(32951, 6)\n",
      "--------------------\n",
      "Info:\n",
      "<class 'pandas.core.frame.DataFrame'>\n",
      "RangeIndex: 32951 entries, 0 to 32950\n",
      "Data columns (total 6 columns):\n",
      " #   Column                 Non-Null Count  Dtype  \n",
      "---  ------                 --------------  -----  \n",
      " 0   product_id             32951 non-null  object \n",
      " 1   product_category_name  32781 non-null  object \n",
      " 2   product_weight_g       32949 non-null  float64\n",
      " 3   product_length_cm      32949 non-null  float64\n",
      " 4   product_height_cm      32949 non-null  float64\n",
      " 5   product_width_cm       32949 non-null  float64\n",
      "dtypes: float64(4), object(2)\n",
      "memory usage: 1.5+ MB\n",
      "--------------------\n",
      "Describe:\n",
      "                              product_id product_category_name  \\\n",
      "count                              32951                 32781   \n",
      "unique                             32951                    70   \n",
      "top     1e9e8ef04dbcff4541ed26657ea517e5                  toys   \n",
      "freq                                   1                 24725   \n",
      "mean                                 NaN                   NaN   \n",
      "std                                  NaN                   NaN   \n",
      "min                                  NaN                   NaN   \n",
      "25%                                  NaN                   NaN   \n",
      "50%                                  NaN                   NaN   \n",
      "75%                                  NaN                   NaN   \n",
      "max                                  NaN                   NaN   \n",
      "\n",
      "        product_weight_g  product_length_cm  product_height_cm  \\\n",
      "count       32949.000000       32949.000000       32949.000000   \n",
      "unique               NaN                NaN                NaN   \n",
      "top                  NaN                NaN                NaN   \n",
      "freq                 NaN                NaN                NaN   \n",
      "mean         2276.472488          30.815078          16.937661   \n",
      "std          4282.038731          16.914458          13.637554   \n",
      "min             0.000000           7.000000           2.000000   \n",
      "25%           300.000000          18.000000           8.000000   \n",
      "50%           700.000000          25.000000          13.000000   \n",
      "75%          1900.000000          38.000000          21.000000   \n",
      "max         40425.000000         105.000000         105.000000   \n",
      "\n",
      "        product_width_cm  \n",
      "count       32949.000000  \n",
      "unique               NaN  \n",
      "top                  NaN  \n",
      "freq                 NaN  \n",
      "mean           23.196728  \n",
      "std            12.079047  \n",
      "min             6.000000  \n",
      "25%            15.000000  \n",
      "50%            20.000000  \n",
      "75%            30.000000  \n",
      "max           118.000000  \n",
      "--------------------\n"
     ]
    }
   ],
   "source": [
    "summarize_dataframe(products)"
   ]
  },
  {
   "cell_type": "code",
   "execution_count": 23,
   "id": "9400e2f4-432b-486e-88a4-276738533e4e",
   "metadata": {},
   "outputs": [
    {
     "name": "stdout",
     "output_type": "stream",
     "text": [
      "                       Null Count  Null Percentage\n",
      "product_id                      0             0.00\n",
      "product_category_name         170             0.52\n",
      "product_weight_g                2             0.01\n",
      "product_length_cm               2             0.01\n",
      "product_height_cm               2             0.01\n",
      "product_width_cm                2             0.01\n"
     ]
    }
   ],
   "source": [
    "null_summary(products)"
   ]
  },
  {
   "cell_type": "code",
   "execution_count": 24,
   "id": "ea28a672-01ca-4601-9f04-5dedc63067b3",
   "metadata": {},
   "outputs": [
    {
     "data": {
      "text/plain": [
       "array([[<Axes: title={'center': 'product_weight_g'}>,\n",
       "        <Axes: title={'center': 'product_length_cm'}>],\n",
       "       [<Axes: title={'center': 'product_height_cm'}>,\n",
       "        <Axes: title={'center': 'product_width_cm'}>]], dtype=object)"
      ]
     },
     "execution_count": 24,
     "metadata": {},
     "output_type": "execute_result"
    },
    {
     "data": {
      "image/png": "[encoded data removed]",
      "text/plain": [
       "<Figure size 640x480 with 4 Axes>"
      ]
     },
     "metadata": {},
     "output_type": "display_data"
    }
   ],
   "source": [
    "products[['product_weight_g', 'product_length_cm', 'product_height_cm', 'product_width_cm']].describe()\n",
    "products[['product_weight_g', 'product_length_cm', 'product_height_cm', 'product_width_cm']].hist()"
   ]
  },
  {
   "cell_type": "code",
   "execution_count": 25,
   "id": "d9d991b5-6a82-49fe-855d-ce38af246619",
   "metadata": {},
   "outputs": [
    {
     "data": {
      "text/plain": [
       "product_weight_g     3.604860\n",
       "product_length_cm    1.750460\n",
       "product_height_cm    2.140061\n",
       "product_width_cm     1.670971\n",
       "dtype: float64"
      ]
     },
     "execution_count": 25,
     "metadata": {},
     "output_type": "execute_result"
    }
   ],
   "source": [
    "# Calculate skewness\n",
    "products[['product_weight_g', 'product_length_cm', 'product_height_cm', 'product_width_cm']].skew()"
   ]
  },
  {
   "cell_type": "markdown",
   "id": "6a4ac7de-3e26-45aa-ba71-3fcda3af196b",
   "metadata": {},
   "source": [
    "The columns having null values are product_category_name, product_weight_g, product_length_cm, product_height_cm and product_width_cm. \n",
    "- We will impute the null values in product_category_name with the mode of the column.\n",
    "- We will impute the null values of the remaiming columns with median as they are right skewed as per the above so median will be imputed for them."
   ]
  },
  {
   "cell_type": "code",
   "execution_count": 26,
   "id": "80c7cc63-4911-4f3c-bd57-ceafc189ebde",
   "metadata": {},
   "outputs": [
    {
     "data": {
      "text/plain": [
       "'toys'"
      ]
     },
     "execution_count": 26,
     "metadata": {},
     "output_type": "execute_result"
    }
   ],
   "source": [
    "# checking the mode of the product_category_name column\n",
    "products[\"product_category_name\"].mode()[0]"
   ]
  },
  {
   "cell_type": "code",
   "execution_count": 27,
   "id": "266fb511-2982-49a3-a732-e007d63840ca",
   "metadata": {},
   "outputs": [],
   "source": [
    "# imputing the null values of the product_category_name column with 'toys' which is the mode of the column\n",
    "products[\"product_category_name\"].fillna(products[\"product_category_name\"].mode()[0], inplace = True)"
   ]
  },
  {
   "cell_type": "code",
   "execution_count": 28,
   "id": "020d9198-0cc3-4844-be05-14967472170b",
   "metadata": {},
   "outputs": [],
   "source": [
    "# imputing the null values with the median of the columns, since there is right skewed skewness\n",
    "products.product_weight_g.fillna(products.product_weight_g.median(), inplace = True)\n",
    "products.product_length_cm.fillna(products.product_length_cm.median(), inplace = True)\n",
    "products.product_height_cm.fillna(products.product_height_cm.median(), inplace = True)\n",
    "products.product_width_cm.fillna(products.product_width_cm.median(), inplace = True)"
   ]
  },
  {
   "cell_type": "code",
   "execution_count": 29,
   "id": "50d8f74d-1f27-4f1f-a96e-c80820cbf600",
   "metadata": {},
   "outputs": [
    {
     "name": "stdout",
     "output_type": "stream",
     "text": [
      "                       Null Count  Null Percentage\n",
      "product_id                      0              0.0\n",
      "product_category_name           0              0.0\n",
      "product_weight_g                0              0.0\n",
      "product_length_cm               0              0.0\n",
      "product_height_cm               0              0.0\n",
      "product_width_cm                0              0.0\n"
     ]
    }
   ],
   "source": [
    "null_summary(products)"
   ]
  },
  {
   "cell_type": "code",
   "execution_count": 30,
   "id": "c5be1f8a-392d-48c7-a6ac-14affa39a949",
   "metadata": {},
   "outputs": [],
   "source": [
    "#function to write a new Excel workbook with given list of sheet\n",
    "def export_to_excel(filename, sheet_df_map):\n",
    "    with pd.ExcelWriter(filename, engine='xlsxwriter') as writer:\n",
    "        for sheet_name, df in sheet_df_map.items():\n",
    "            df.to_excel(writer, sheet_name=sheet_name, index=False)\n",
    "    \n",
    "    print(f\"✅ File '{filename}' exported successfully.\")\n",
    "    print(f\"📁 Location: {os.path.abspath(filename)}\")\n",
    "\n"
   ]
  },
  {
   "cell_type": "code",
   "execution_count": 31,
   "id": "21fc17fe-9aa2-4742-aa89-f69da5476dea",
   "metadata": {},
   "outputs": [
    {
     "name": "stdout",
     "output_type": "stream",
     "text": [
      "✅ File 'Retail_dataset_cleaned.xlsx' exported successfully.\n",
      "📁 Location: C:\\Users\\Abi\\Downloads\\Jupyter notebooks\\main_program\\Cap_stone\\Marketing_Retail_Analytics_Capstone\\Retail_dataset_cleaned.xlsx\n"
     ]
    }
   ],
   "source": [
    "export_to_excel(\"Retail_dataset_cleaned.xlsx\", {\n",
    "        \"orders\": orders,\n",
    "        \"order_items\": order_items,\n",
    "        \"customers\": customers,\n",
    "        \"payments\": payments,\n",
    "        \"products\": products\n",
    "    })"
   ]
  },
  {
   "cell_type": "markdown",
   "id": "1b8288ca-9842-4ae8-b0c2-29439c435d25",
   "metadata": {},
   "source": [
    "## Market Basket Analysis\n",
    "<br>\n",
    "Market Basket Analysis (MBA) is a technique used to uncover patterns in customer purchasing behavior by identifying combinations of product categories that are frequently bought together. This process typically involves constructing a matrix where both the rows and columns represent different product categories. Each cell in the matrix captures how often a particular pair of categories appears together in the same transaction. By analyzing these pairwise associations, businesses can detect strong relationships between items—such as customers who purchase laptops often also buying laptop bags or mice. These insights are valuable for making informed decisions about product placement, cross-selling opportunities, and targeted marketing strategies. Ultimately, MBA helps retailers enhance customer experience and boost sales by aligning offerings with real-world buying habits.\n",
    "<br>\n",
    "<br>\n",
    "<i>using Cleaned dataset (Retail_dataset_Cleaned) for this purpose.</i>"
   ]
  },
  {
   "cell_type": "code",
   "execution_count": 32,
   "id": "8cca5f23-0374-4d0c-94d4-11a86001936a",
   "metadata": {},
   "outputs": [],
   "source": [
    "df1 = pd.read_excel(\"Retail_dataset_cleaned.xlsx\", sheet_name = \"order_items\")\n",
    "df2 = pd.read_excel(\"Retail_dataset_cleaned.xlsx\", sheet_name = \"products\")\n",
    "mb=pd.merge(df1,df2,how='inner',on='product_id')"
   ]
  },
  {
   "cell_type": "code",
   "execution_count": 33,
   "id": "ae9821e8-25bf-4cc7-aa21-99398221a3b6",
   "metadata": {},
   "outputs": [
    {
     "data": {
      "text/html": [
       "<div>\n",
       "<style scoped>\n",
       "    .dataframe tbody tr th:only-of-type {\n",
       "        vertical-align: middle;\n",
       "    }\n",
       "\n",
       "    .dataframe tbody tr th {\n",
       "        vertical-align: top;\n",
       "    }\n",
       "\n",
       "    .dataframe thead th {\n",
       "        text-align: right;\n",
       "    }\n",
       "</style>\n",
       "<table border=\"1\" class=\"dataframe\">\n",
       "  <thead>\n",
       "    <tr style=\"text-align: right;\">\n",
       "      <th></th>\n",
       "      <th>order_id</th>\n",
       "      <th>order_item_id</th>\n",
       "      <th>product_id</th>\n",
       "      <th>seller_id</th>\n",
       "      <th>price</th>\n",
       "      <th>shipping_charges</th>\n",
       "      <th>product_category_name</th>\n",
       "      <th>product_weight_g</th>\n",
       "      <th>product_length_cm</th>\n",
       "      <th>product_height_cm</th>\n",
       "      <th>product_width_cm</th>\n",
       "    </tr>\n",
       "  </thead>\n",
       "  <tbody>\n",
       "    <tr>\n",
       "      <th>0</th>\n",
       "      <td>00010242fe8c5a6d1ba2dd792cb16214</td>\n",
       "      <td>1</td>\n",
       "      <td>4244733e06e7ecb4970a6e2683c13e61</td>\n",
       "      <td>48436dade18ac8b2bce089ec2a041202</td>\n",
       "      <td>58.9</td>\n",
       "      <td>13.29</td>\n",
       "      <td>toys</td>\n",
       "      <td>650</td>\n",
       "      <td>28</td>\n",
       "      <td>9</td>\n",
       "      <td>14</td>\n",
       "    </tr>\n",
       "    <tr>\n",
       "      <th>1</th>\n",
       "      <td>130898c0987d1801452a8ed92a670612</td>\n",
       "      <td>1</td>\n",
       "      <td>4244733e06e7ecb4970a6e2683c13e61</td>\n",
       "      <td>48436dade18ac8b2bce089ec2a041202</td>\n",
       "      <td>55.9</td>\n",
       "      <td>17.96</td>\n",
       "      <td>toys</td>\n",
       "      <td>650</td>\n",
       "      <td>28</td>\n",
       "      <td>9</td>\n",
       "      <td>14</td>\n",
       "    </tr>\n",
       "    <tr>\n",
       "      <th>2</th>\n",
       "      <td>532ed5e14e24ae1f0d735b91524b98b9</td>\n",
       "      <td>1</td>\n",
       "      <td>4244733e06e7ecb4970a6e2683c13e61</td>\n",
       "      <td>48436dade18ac8b2bce089ec2a041202</td>\n",
       "      <td>64.9</td>\n",
       "      <td>18.33</td>\n",
       "      <td>toys</td>\n",
       "      <td>650</td>\n",
       "      <td>28</td>\n",
       "      <td>9</td>\n",
       "      <td>14</td>\n",
       "    </tr>\n",
       "    <tr>\n",
       "      <th>3</th>\n",
       "      <td>6f8c31653edb8c83e1a739408b5ff750</td>\n",
       "      <td>1</td>\n",
       "      <td>4244733e06e7ecb4970a6e2683c13e61</td>\n",
       "      <td>48436dade18ac8b2bce089ec2a041202</td>\n",
       "      <td>58.9</td>\n",
       "      <td>16.17</td>\n",
       "      <td>toys</td>\n",
       "      <td>650</td>\n",
       "      <td>28</td>\n",
       "      <td>9</td>\n",
       "      <td>14</td>\n",
       "    </tr>\n",
       "    <tr>\n",
       "      <th>4</th>\n",
       "      <td>7d19f4ef4d04461989632411b7e588b9</td>\n",
       "      <td>1</td>\n",
       "      <td>4244733e06e7ecb4970a6e2683c13e61</td>\n",
       "      <td>48436dade18ac8b2bce089ec2a041202</td>\n",
       "      <td>58.9</td>\n",
       "      <td>13.29</td>\n",
       "      <td>toys</td>\n",
       "      <td>650</td>\n",
       "      <td>28</td>\n",
       "      <td>9</td>\n",
       "      <td>14</td>\n",
       "    </tr>\n",
       "  </tbody>\n",
       "</table>\n",
       "</div>"
      ],
      "text/plain": [
       "                           order_id  order_item_id  \\\n",
       "0  00010242fe8c5a6d1ba2dd792cb16214              1   \n",
       "1  130898c0987d1801452a8ed92a670612              1   \n",
       "2  532ed5e14e24ae1f0d735b91524b98b9              1   \n",
       "3  6f8c31653edb8c83e1a739408b5ff750              1   \n",
       "4  7d19f4ef4d04461989632411b7e588b9              1   \n",
       "\n",
       "                         product_id                         seller_id  price  \\\n",
       "0  4244733e06e7ecb4970a6e2683c13e61  48436dade18ac8b2bce089ec2a041202   58.9   \n",
       "1  4244733e06e7ecb4970a6e2683c13e61  48436dade18ac8b2bce089ec2a041202   55.9   \n",
       "2  4244733e06e7ecb4970a6e2683c13e61  48436dade18ac8b2bce089ec2a041202   64.9   \n",
       "3  4244733e06e7ecb4970a6e2683c13e61  48436dade18ac8b2bce089ec2a041202   58.9   \n",
       "4  4244733e06e7ecb4970a6e2683c13e61  48436dade18ac8b2bce089ec2a041202   58.9   \n",
       "\n",
       "   shipping_charges product_category_name  product_weight_g  \\\n",
       "0             13.29                  toys               650   \n",
       "1             17.96                  toys               650   \n",
       "2             18.33                  toys               650   \n",
       "3             16.17                  toys               650   \n",
       "4             13.29                  toys               650   \n",
       "\n",
       "   product_length_cm  product_height_cm  product_width_cm  \n",
       "0                 28                  9                14  \n",
       "1                 28                  9                14  \n",
       "2                 28                  9                14  \n",
       "3                 28                  9                14  \n",
       "4                 28                  9                14  "
      ]
     },
     "execution_count": 33,
     "metadata": {},
     "output_type": "execute_result"
    }
   ],
   "source": [
    "mb.head()"
   ]
  },
  {
   "cell_type": "markdown",
   "id": "f7f4d85b-1182-46e4-973f-3cbd0669db83",
   "metadata": {},
   "source": [
    "As we only need product categories and order_id for market basket analysis removing other columns"
   ]
  },
  {
   "cell_type": "code",
   "execution_count": 34,
   "id": "a5320fe0-0ab2-44d7-a29d-d99bf53b7268",
   "metadata": {},
   "outputs": [
    {
     "data": {
      "text/html": [
       "<div>\n",
       "<style scoped>\n",
       "    .dataframe tbody tr th:only-of-type {\n",
       "        vertical-align: middle;\n",
       "    }\n",
       "\n",
       "    .dataframe tbody tr th {\n",
       "        vertical-align: top;\n",
       "    }\n",
       "\n",
       "    .dataframe thead th {\n",
       "        text-align: right;\n",
       "    }\n",
       "</style>\n",
       "<table border=\"1\" class=\"dataframe\">\n",
       "  <thead>\n",
       "    <tr style=\"text-align: right;\">\n",
       "      <th></th>\n",
       "      <th>order_id</th>\n",
       "      <th>product_category_name</th>\n",
       "    </tr>\n",
       "  </thead>\n",
       "  <tbody>\n",
       "    <tr>\n",
       "      <th>0</th>\n",
       "      <td>00010242fe8c5a6d1ba2dd792cb16214</td>\n",
       "      <td>toys</td>\n",
       "    </tr>\n",
       "    <tr>\n",
       "      <th>1</th>\n",
       "      <td>130898c0987d1801452a8ed92a670612</td>\n",
       "      <td>toys</td>\n",
       "    </tr>\n",
       "    <tr>\n",
       "      <th>2</th>\n",
       "      <td>532ed5e14e24ae1f0d735b91524b98b9</td>\n",
       "      <td>toys</td>\n",
       "    </tr>\n",
       "    <tr>\n",
       "      <th>3</th>\n",
       "      <td>6f8c31653edb8c83e1a739408b5ff750</td>\n",
       "      <td>toys</td>\n",
       "    </tr>\n",
       "    <tr>\n",
       "      <th>4</th>\n",
       "      <td>7d19f4ef4d04461989632411b7e588b9</td>\n",
       "      <td>toys</td>\n",
       "    </tr>\n",
       "  </tbody>\n",
       "</table>\n",
       "</div>"
      ],
      "text/plain": [
       "                           order_id product_category_name\n",
       "0  00010242fe8c5a6d1ba2dd792cb16214                  toys\n",
       "1  130898c0987d1801452a8ed92a670612                  toys\n",
       "2  532ed5e14e24ae1f0d735b91524b98b9                  toys\n",
       "3  6f8c31653edb8c83e1a739408b5ff750                  toys\n",
       "4  7d19f4ef4d04461989632411b7e588b9                  toys"
      ]
     },
     "execution_count": 34,
     "metadata": {},
     "output_type": "execute_result"
    }
   ],
   "source": [
    "mb=mb[[\"order_id\", \"product_category_name\"]]\n",
    "mb.head()"
   ]
  },
  {
   "cell_type": "code",
   "execution_count": 35,
   "id": "9eb3ce58-cd78-4ecc-b14f-6f6d8d0d862a",
   "metadata": {},
   "outputs": [
    {
     "data": {
      "text/plain": [
       "(112650, 2)"
      ]
     },
     "execution_count": 35,
     "metadata": {},
     "output_type": "execute_result"
    }
   ],
   "source": [
    "mb.shape"
   ]
  },
  {
   "cell_type": "code",
   "execution_count": 36,
   "id": "f899a618-2a8f-42f8-b3cc-383b3be86f5e",
   "metadata": {},
   "outputs": [
    {
     "name": "stdout",
     "output_type": "stream",
     "text": [
      "✅ File 'Market_Basket_Analysis.xlsx' exported successfully.\n",
      "📁 Location: C:\\Users\\Abi\\Downloads\\Jupyter notebooks\\main_program\\Cap_stone\\Marketing_Retail_Analytics_Capstone\\Market_Basket_Analysis.xlsx\n"
     ]
    }
   ],
   "source": [
    "export_to_excel(\"Market_Basket_Analysis.xlsx\",{\"orders_Analysis\":mb})"
   ]
  },
  {
   "cell_type": "markdown",
   "id": "ba355f89-ad92-41ca-9ed3-f09b6841da08",
   "metadata": {},
   "source": [
    "<b>Data Visualisation of Retail data cleaned and Market_Basket Analysis will be performed in Viz tool(powerBi/Tableau</b>"
   ]
  }
 ],
 "metadata": {
  "kernelspec": {
   "display_name": "Python 3 (ipykernel)",
   "language": "python",
   "name": "python3"
  },
  "language_info": {
   "codemirror_mode": {
    "name": "ipython",
    "version": 3
   },
   "file_extension": ".py",
   "mimetype": "text/x-python",
   "name": "python",
   "nbconvert_exporter": "python",
   "pygments_lexer": "ipython3",
   "version": "3.11.7"
  }
 },
 "nbformat": 4,
 "nbformat_minor": 5
}
